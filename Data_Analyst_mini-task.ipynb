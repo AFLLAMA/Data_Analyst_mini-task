{
 "cells": [
  {
   "cell_type": "code",
   "execution_count": 1,
   "metadata": {},
   "outputs": [],
   "source": [
    "# Read data\n",
    "import pandas as pd\n",
    "X = pd.read_csv(\"X_train.csv\",sep=';',decimal=',') \n",
    "Y = pd.read_csv(\"Y_train.csv\",sep=';',decimal=',')\n",
    "X_test = pd.read_csv(\"X_test.csv\",sep=';',decimal=',') \n",
    "Y_test = pd.read_csv(\"Y_test.csv\",sep=';',decimal=',')"
   ]
  },
  {
   "cell_type": "code",
   "execution_count": 2,
   "metadata": {},
   "outputs": [
    {
     "name": "stdout",
     "output_type": "stream",
     "text": [
      "Max relation of NaNs over all parameters per row: 46.43%\n",
      "16 parameters have at least 65% of data as NaN\n"
     ]
    }
   ],
   "source": [
    "# Detect most corrupted data\n",
    "is_NaN = X.isnull()\n",
    "max_nans = is_NaN.sum(axis = 1).max()\n",
    "print('Max relation of NaNs over all parameters per row: {}%'.format(round(max_nans/(len(X.columns)-2)*100, 2)))\n",
    "\n",
    "is_NaN_sum = is_NaN.sum()\n",
    "nans_over_rows = (is_NaN_sum/len(X)*100)>65\n",
    "\n",
    "print('{} parameters have at least 65% of data as NaN'.format(sum(nans_over_rows)))"
   ]
  },
  {
   "cell_type": "code",
   "execution_count": 3,
   "metadata": {},
   "outputs": [
    {
     "name": "stdout",
     "output_type": "stream",
     "text": [
      "16 columns were deleted.\n",
      "41 rows were deleted.\n"
     ]
    }
   ],
   "source": [
    "# Delete columns that have too much NaN values \n",
    "# Comment 3 lines below to keep all columns\n",
    "columns_before = X.columns\n",
    "X = X.loc[:,is_NaN.mean() < .65]\n",
    "X_test = X_test[X.columns]\n",
    "print('{} columns were deleted.'.format(len(columns_before)-len(X.columns)))\n",
    "\n",
    "# Extract only values from raw data\n",
    "X_train_vals = X.iloc[:,2:]\n",
    "Y_train_vals = Y.iloc[:,2]\n",
    "X_test_vals = X_test.iloc[:,2:]\n",
    "\n",
    "# Fill NaN values with mean of corresponding column \n",
    "X_train_vals.apply(lambda x: x.fillna(x.mean(),inplace=True),axis=0)\n",
    "X_test_vals.apply(lambda x: x.fillna(x.mean(),inplace=True),axis=0)\n",
    "\n",
    "# Delete rows where y values are NaN \n",
    "data = pd.concat([X_train_vals, Y_train_vals], axis=1, join='inner')\n",
    "data.dropna(axis = 0, inplace = True)\n",
    "\n",
    "X_train_vals = data.drop('y',axis=1)\n",
    "Y_train_vals = data.iloc[:,-1]\n",
    "\n",
    "print('{} rows were deleted.'.format(len(Y) - len(Y_train_vals)))"
   ]
  },
  {
   "cell_type": "code",
   "execution_count": 4,
   "metadata": {},
   "outputs": [
    {
     "data": {
      "text/plain": [
       "array([[0.34587606, 0.50186759, 0.54319621, ..., 0.08115036, 0.02470658,\n",
       "        0.14706694],\n",
       "       [0.33781322, 0.50187421, 0.54232295, ..., 0.08148746, 0.01532618,\n",
       "        0.12778382],\n",
       "       [0.33781322, 0.50186759, 0.53718054, ..., 0.08110579, 0.01510274,\n",
       "        0.14489101],\n",
       "       ...,\n",
       "       [0.33781322, 0.50186759, 0.53718054, ..., 0.0814171 , 0.01324473,\n",
       "        0.12495927],\n",
       "       [0.3520363 , 0.79673082, 0.53884416, ..., 0.08106519, 0.01378962,\n",
       "        0.12512227],\n",
       "       [0.33925462, 0.50186759, 0.53718054, ..., 0.0971078 , 0.01568219,\n",
       "        0.13074059]])"
      ]
     },
     "execution_count": 4,
     "metadata": {},
     "output_type": "execute_result"
    }
   ],
   "source": [
    "# In order to make all x values equally important we perform MinMax Scaller to scale data to bounds [0-1]\n",
    "# Also we exclude nagtive values to have count data\n",
    "from sklearn import preprocessing \n",
    "Standardisation = preprocessing.StandardScaler()\n",
    "# X_train_vals = Standardisation.fit_transform(X_train_vals) \n",
    "X_train_vals = preprocessing.MinMaxScaler(feature_range =(0, 1)).fit_transform(X_train_vals)"
   ]
  },
  {
   "cell_type": "code",
   "execution_count": 5,
   "metadata": {},
   "outputs": [],
   "source": [
    "import sklearn.metrics as metrics\n",
    "import numpy as np\n",
    "\n",
    "# Weighted mean absolute percent error calculation function\n",
    "def wmape(y, y_predicted):\n",
    "    y = y.reset_index(drop = True)\n",
    "    diff = y - y_predicted\n",
    "    summed_y = diff.sum()\n",
    "    summed_predicted = sum(y)\n",
    "    return abs(summed_y)/summed_predicted*100\n",
    "\n",
    "def show_metrics(y, y_pred):\n",
    "    mean_absolute_error=metrics.mean_absolute_error(y, y_pred) \n",
    "    mse=metrics.mean_squared_error(y, y_pred) \n",
    "    median_absolute_error=metrics.median_absolute_error(y, y_pred)\n",
    "    print('MAE: ', round(mean_absolute_error,4))\n",
    "    print('MSE: ', round(mse,4))\n",
    "    print('RMSE: ', round(np.sqrt(mse),4))\n",
    "    print('WMAPE: ', round(wmape(y,y_pred),4))"
   ]
  },
  {
   "cell_type": "code",
   "execution_count": 6,
   "metadata": {},
   "outputs": [],
   "source": [
    "from sklearn.ensemble import RandomForestRegressor\n",
    "from sklearn.svm import SVR\n",
    "from sklearn.neural_network import MLPRegressor\n",
    "from sklearn.gaussian_process import GaussianProcessRegressor\n",
    "from sklearn import linear_model\n",
    "from sklearn import neighbors\n",
    "from sklearn.model_selection import train_test_split\n",
    "\n",
    "# We need test data with y values so we split train data\n",
    "xtrain, xtest, ytrain, ytest = train_test_split(X_train_vals, Y_train_vals, test_size = 0.20)\n",
    "\n",
    "# Prepare regression models that most likely perform good on a given dataset\n",
    "models = []\n",
    "models.append(MLPRegressor())\n",
    "models.append(RandomForestRegressor(n_estimators=10))\n",
    "models.append(neighbors.KNeighborsRegressor())\n",
    "models.append(linear_model.LinearRegression())\n",
    "models.append(linear_model.SGDRegressor())"
   ]
  },
  {
   "cell_type": "code",
   "execution_count": 7,
   "metadata": {},
   "outputs": [
    {
     "name": "stderr",
     "output_type": "stream",
     "text": [
      "D:\\Soft\\Anaconda\\lib\\site-packages\\sklearn\\neural_network\\_multilayer_perceptron.py:582: ConvergenceWarning: Stochastic Optimizer: Maximum iterations (200) reached and the optimization hasn't converged yet.\n",
      "  warnings.warn(\n"
     ]
    },
    {
     "name": "stdout",
     "output_type": "stream",
     "text": [
      "Model - MLPRegressor:\n",
      "MAE:  1830.6319\n",
      "MSE:  5083355.183\n",
      "RMSE:  2254.6297\n",
      "WMAPE:  0.3413\n",
      "----------------------------------------------------------\n",
      "Model - RandomForestRegressor:\n",
      "MAE:  1786.5764\n",
      "MSE:  4965461.6937\n",
      "RMSE:  2228.3316\n",
      "WMAPE:  0.3641\n",
      "----------------------------------------------------------\n",
      "Model - KNeighborsRegressor:\n",
      "MAE:  1941.7711\n",
      "MSE:  5925179.1223\n",
      "RMSE:  2434.1691\n",
      "WMAPE:  0.9533\n",
      "----------------------------------------------------------\n",
      "Model - LinearRegression:\n",
      "MAE:  1830.4457\n",
      "MSE:  5090333.0689\n",
      "RMSE:  2256.1766\n",
      "WMAPE:  0.1695\n",
      "----------------------------------------------------------\n",
      "Model - SGDRegressor:\n",
      "MAE:  1815.2633\n",
      "MSE:  5032437.8222\n",
      "RMSE:  2243.3096\n",
      "WMAPE:  1.6628\n",
      "----------------------------------------------------------\n"
     ]
    }
   ],
   "source": [
    "# Run models\n",
    "for m in models:\n",
    "    m.fit(xtrain,ytrain)\n",
    "    ypred = m.predict(xtest)\n",
    "    print('Model - {}:'.format(type(m).__name__))\n",
    "    show_metrics(ytest, ypred)\n",
    "    print('----------------------------------------------------------')"
   ]
  },
  {
   "cell_type": "code",
   "execution_count": 8,
   "metadata": {},
   "outputs": [
    {
     "data": {
      "text/html": [
       "<div>\n",
       "<style scoped>\n",
       "    .dataframe tbody tr th:only-of-type {\n",
       "        vertical-align: middle;\n",
       "    }\n",
       "\n",
       "    .dataframe tbody tr th {\n",
       "        vertical-align: top;\n",
       "    }\n",
       "\n",
       "    .dataframe thead th {\n",
       "        text-align: right;\n",
       "    }\n",
       "</style>\n",
       "<table border=\"1\" class=\"dataframe\">\n",
       "  <thead>\n",
       "    <tr style=\"text-align: right;\">\n",
       "      <th></th>\n",
       "      <th>y</th>\n",
       "      <th>predicted</th>\n",
       "    </tr>\n",
       "  </thead>\n",
       "  <tbody>\n",
       "    <tr>\n",
       "      <th>count</th>\n",
       "      <td>1680.000000</td>\n",
       "      <td>1680.000000</td>\n",
       "    </tr>\n",
       "    <tr>\n",
       "      <th>mean</th>\n",
       "      <td>3645.497202</td>\n",
       "      <td>3610.746213</td>\n",
       "    </tr>\n",
       "    <tr>\n",
       "      <th>std</th>\n",
       "      <td>2290.414197</td>\n",
       "      <td>1048.782035</td>\n",
       "    </tr>\n",
       "    <tr>\n",
       "      <th>min</th>\n",
       "      <td>0.000000</td>\n",
       "      <td>419.805937</td>\n",
       "    </tr>\n",
       "    <tr>\n",
       "      <th>25%</th>\n",
       "      <td>1874.521244</td>\n",
       "      <td>2876.240141</td>\n",
       "    </tr>\n",
       "    <tr>\n",
       "      <th>50%</th>\n",
       "      <td>3345.427733</td>\n",
       "      <td>3549.863850</td>\n",
       "    </tr>\n",
       "    <tr>\n",
       "      <th>75%</th>\n",
       "      <td>5035.883915</td>\n",
       "      <td>4288.771509</td>\n",
       "    </tr>\n",
       "    <tr>\n",
       "      <th>max</th>\n",
       "      <td>10000.000000</td>\n",
       "      <td>7888.081270</td>\n",
       "    </tr>\n",
       "  </tbody>\n",
       "</table>\n",
       "</div>"
      ],
      "text/plain": [
       "                  y    predicted\n",
       "count   1680.000000  1680.000000\n",
       "mean    3645.497202  3610.746213\n",
       "std     2290.414197  1048.782035\n",
       "min        0.000000   419.805937\n",
       "25%     1874.521244  2876.240141\n",
       "50%     3345.427733  3549.863850\n",
       "75%     5035.883915  4288.771509\n",
       "max    10000.000000  7888.081270"
      ]
     },
     "execution_count": 8,
     "metadata": {},
     "output_type": "execute_result"
    }
   ],
   "source": [
    "# Among all the models with different parameters and testings RandomForestRegressor has shown best performance.\n",
    "ytest = ytest.reset_index(drop = True)\n",
    "pred = models[2].predict(xtest)\n",
    "ytest = pd.DataFrame(ytest)\n",
    "\n",
    "# Merge predicted values to actual\n",
    "ytest['predicted'] = pd.DataFrame(pred)\n",
    "ytest.describe()"
   ]
  },
  {
   "cell_type": "code",
   "execution_count": 9,
   "metadata": {},
   "outputs": [
    {
     "name": "stderr",
     "output_type": "stream",
     "text": [
      "<ipython-input-9-52b5202a8ea6>:4: SettingWithCopyWarning: \n",
      "A value is trying to be set on a copy of a slice from a DataFrame.\n",
      "Try using .loc[row_indexer,col_indexer] = value instead\n",
      "\n",
      "See the caveats in the documentation: https://pandas.pydata.org/pandas-docs/stable/user_guide/indexing.html#returning-a-view-versus-a-copy\n",
      "  ytest_plot['index'] = ytest_plot.index\n"
     ]
    },
    {
     "data": {
      "text/plain": [
       "<matplotlib.collections.PathCollection at 0x168b6c5a940>"
      ]
     },
     "execution_count": 9,
     "metadata": {},
     "output_type": "execute_result"
    },
    {
     "data": {
      "image/png": "[encoded data removed]",
      "text/plain": [
       "<Figure size 432x288 with 1 Axes>"
      ]
     },
     "metadata": {
      "needs_background": "light"
     },
     "output_type": "display_data"
    }
   ],
   "source": [
    "#Scattering y actual and predicted\n",
    "import matplotlib.pyplot as plt\n",
    "ytest_plot = ytest.head(40)\n",
    "ytest_plot['index'] = ytest_plot.index\n",
    "\n",
    "plt.scatter(ytest_plot.index, ytest_plot['y'])\n",
    "plt.scatter(ytest_plot.index, ytest_plot['predicted'], c='coral' )"
   ]
  },
  {
   "cell_type": "code",
   "execution_count": 10,
   "metadata": {},
   "outputs": [],
   "source": [
    "# Apply best model on test data.\n",
    "y = models[2].predict(X_test_vals)\n",
    "\n",
    "# Fill Y_test table with our predictions\n",
    "Y_test['y'] = y\n",
    "\n",
    "# Even though local accuracy is not the best. \n",
    "# Our main goal is to maximize Forecast Accuracy by minimizing WMAPE that was successfully done. "
   ]
  },
  {
   "cell_type": "code",
   "execution_count": 16,
   "metadata": {},
   "outputs": [],
   "source": [
    "Y_test.to_csv('Y_predicted.csv', index = False)"
   ]
  }
 ],
 "metadata": {
  "kernelspec": {
   "display_name": "Python 3",
   "language": "python",
   "name": "python3"
  },
  "language_info": {
   "codemirror_mode": {
    "name": "ipython",
    "version": 3
   },
   "file_extension": ".py",
   "mimetype": "text/x-python",
   "name": "python",
   "nbconvert_exporter": "python",
   "pygments_lexer": "ipython3",
   "version": "3.8.3"
  }
 },
 "nbformat": 4,
 "nbformat_minor": 4
}
